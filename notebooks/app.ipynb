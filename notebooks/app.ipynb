{
 "cells": [
  {
   "cell_type": "code",
   "execution_count": 1,
   "id": "fe0be220",
   "metadata": {},
   "outputs": [
    {
     "name": "stderr",
     "output_type": "stream",
     "text": [
      "2024-05-23 20:41:28.001 \n",
      "  \u001b[33m\u001b[1mWarning:\u001b[0m to view this Streamlit app on a browser, run it with the following\n",
      "  command:\n",
      "\n",
      "    streamlit run c:\\Users\\mikej\\anaconda3\\Lib\\site-packages\\ipykernel_launcher.py [ARGUMENTS]\n"
     ]
    },
    {
     "ename": "AttributeError",
     "evalue": "st.secrets has no attribute \"dg_key\". Did you forget to add it to secrets.toml or the app settings on Streamlit Cloud? More info: https://docs.streamlit.io/streamlit-cloud/get-started/deploy-an-app/connect-to-data-sources/secrets-management",
     "output_type": "error",
     "traceback": [
      "\u001b[1;31m---------------------------------------------------------------------------\u001b[0m",
      "\u001b[1;31mFileNotFoundError\u001b[0m                         Traceback (most recent call last)",
      "File \u001b[1;32mc:\\Users\\mikej\\anaconda3\\Lib\\site-packages\\streamlit\\runtime\\secrets.py:287\u001b[0m, in \u001b[0;36mSecrets.__getattr__\u001b[1;34m(self, key)\u001b[0m\n\u001b[0;32m    286\u001b[0m \u001b[38;5;28;01mtry\u001b[39;00m:\n\u001b[1;32m--> 287\u001b[0m     value \u001b[38;5;241m=\u001b[39m \u001b[38;5;28mself\u001b[39m\u001b[38;5;241m.\u001b[39m_parse(\u001b[38;5;28;01mTrue\u001b[39;00m)[key]\n\u001b[0;32m    288\u001b[0m     \u001b[38;5;28;01mif\u001b[39;00m \u001b[38;5;129;01mnot\u001b[39;00m \u001b[38;5;28misinstance\u001b[39m(value, Mapping):\n",
      "File \u001b[1;32mc:\\Users\\mikej\\anaconda3\\Lib\\site-packages\\streamlit\\runtime\\secrets.py:214\u001b[0m, in \u001b[0;36mSecrets._parse\u001b[1;34m(self, print_exceptions)\u001b[0m\n\u001b[0;32m    213\u001b[0m         st\u001b[38;5;241m.\u001b[39merror(err_msg)\n\u001b[1;32m--> 214\u001b[0m     \u001b[38;5;28;01mraise\u001b[39;00m \u001b[38;5;167;01mFileNotFoundError\u001b[39;00m(err_msg)\n\u001b[0;32m    216\u001b[0m \u001b[38;5;28;01mif\u001b[39;00m \u001b[38;5;28mlen\u001b[39m([p \u001b[38;5;28;01mfor\u001b[39;00m p \u001b[38;5;129;01min\u001b[39;00m \u001b[38;5;28mself\u001b[39m\u001b[38;5;241m.\u001b[39m_file_paths \u001b[38;5;28;01mif\u001b[39;00m os\u001b[38;5;241m.\u001b[39mpath\u001b[38;5;241m.\u001b[39mexists(p)]) \u001b[38;5;241m>\u001b[39m \u001b[38;5;241m1\u001b[39m:\n",
      "\u001b[1;31mFileNotFoundError\u001b[0m: No secrets files found. Valid paths for a secrets.toml file are: C:\\Users\\mikej\\.streamlit\\secrets.toml, c:\\Users\\mikej\\Desktop\\fantrax\\notebooks\\.streamlit\\secrets.toml",
      "\nDuring handling of the above exception, another exception occurred:\n",
      "\u001b[1;31mAttributeError\u001b[0m                            Traceback (most recent call last)",
      "Cell \u001b[1;32mIn[1], line 7\u001b[0m\n\u001b[0;32m      4\u001b[0m \u001b[38;5;28;01mimport\u001b[39;00m \u001b[38;5;21;01mstreamlit\u001b[39;00m \u001b[38;5;28;01mas\u001b[39;00m \u001b[38;5;21;01mst\u001b[39;00m\n\u001b[0;32m      6\u001b[0m \u001b[38;5;28;01mfrom\u001b[39;00m \u001b[38;5;21;01mdict_utils\u001b[39;00m \u001b[38;5;28;01mimport\u001b[39;00m \u001b[38;5;241m*\u001b[39m\n\u001b[1;32m----> 7\u001b[0m \u001b[38;5;28;01mfrom\u001b[39;00m \u001b[38;5;21;01mconstants\u001b[39;00m \u001b[38;5;28;01mimport\u001b[39;00m \u001b[38;5;241m*\u001b[39m\n\u001b[0;32m      8\u001b[0m \u001b[38;5;28;01mfrom\u001b[39;00m \u001b[38;5;21;01mutils_api\u001b[39;00m \u001b[38;5;28;01mimport\u001b[39;00m \u001b[38;5;241m*\u001b[39m\n\u001b[0;32m      9\u001b[0m \u001b[38;5;28;01mfrom\u001b[39;00m \u001b[38;5;21;01mutils\u001b[39;00m \u001b[38;5;28;01mimport\u001b[39;00m \u001b[38;5;241m*\u001b[39m\n",
      "File \u001b[1;32mc:\\Users\\mikej\\Desktop\\fantrax\\notebooks\\constants.py:2\u001b[0m\n\u001b[0;32m      1\u001b[0m \u001b[38;5;28;01mimport\u001b[39;00m \u001b[38;5;21;01mstreamlit\u001b[39;00m \u001b[38;5;28;01mas\u001b[39;00m \u001b[38;5;21;01mst\u001b[39;00m\n\u001b[1;32m----> 2\u001b[0m dg_key \u001b[38;5;241m=\u001b[39m st\u001b[38;5;241m.\u001b[39msecrets\u001b[38;5;241m.\u001b[39mdg_key\n\u001b[0;32m      4\u001b[0m TOURNAMENT_NAME \u001b[38;5;241m=\u001b[39m \u001b[38;5;124m\"\u001b[39m\u001b[38;5;124mCharles Schwab Challenge\u001b[39m\u001b[38;5;124m\"\u001b[39m\n\u001b[0;32m      5\u001b[0m WEEK_NUMBER \u001b[38;5;241m=\u001b[39m \u001b[38;5;241m19\u001b[39m\n",
      "File \u001b[1;32mc:\\Users\\mikej\\anaconda3\\Lib\\site-packages\\streamlit\\runtime\\secrets.py:296\u001b[0m, in \u001b[0;36mSecrets.__getattr__\u001b[1;34m(self, key)\u001b[0m\n\u001b[0;32m    292\u001b[0m \u001b[38;5;66;03m# We add FileNotFoundError since __getattr__ is expected to only raise\u001b[39;00m\n\u001b[0;32m    293\u001b[0m \u001b[38;5;66;03m# AttributeError. Without handling FileNotFoundError, unittests.mocks\u001b[39;00m\n\u001b[0;32m    294\u001b[0m \u001b[38;5;66;03m# fails during mock creation on Python3.9\u001b[39;00m\n\u001b[0;32m    295\u001b[0m \u001b[38;5;28;01mexcept\u001b[39;00m (\u001b[38;5;167;01mKeyError\u001b[39;00m, \u001b[38;5;167;01mFileNotFoundError\u001b[39;00m):\n\u001b[1;32m--> 296\u001b[0m     \u001b[38;5;28;01mraise\u001b[39;00m \u001b[38;5;167;01mAttributeError\u001b[39;00m(_missing_attr_error_message(key))\n",
      "\u001b[1;31mAttributeError\u001b[0m: st.secrets has no attribute \"dg_key\". Did you forget to add it to secrets.toml or the app settings on Streamlit Cloud? More info: https://docs.streamlit.io/streamlit-cloud/get-started/deploy-an-app/connect-to-data-sources/secrets-management"
     ]
    }
   ],
   "source": [
    "import pandas as pd\n",
    "import numpy as np\n",
    "import plotly.express as px\n",
    "import streamlit as st\n",
    "\n",
    "from dict_utils import *\n",
    "from constants import *\n",
    "from utils_api import *\n",
    "from utils import *\n",
    "\n",
    "pd.set_option('display.max_columns', None)"
   ]
  },
  {
   "cell_type": "code",
   "execution_count": null,
   "id": "718065c4",
   "metadata": {},
   "outputs": [],
   "source": [
    "#### FILES\n",
    "\n",
    "dg = \"https://feeds.datagolf.com/preds/fantasy-projection-defaults?tour=pga&site=draftkings&slate=main&file_format=csv&key=e297e933c3ad47d71ec1626c299e\"\n",
    "fantrax = r\"C:\\Users\\mikej\\Desktop\\fantrax\\fantrax.csv\""
   ]
  },
  {
   "cell_type": "code",
   "execution_count": null,
   "id": "d712d293",
   "metadata": {},
   "outputs": [],
   "source": [
    "team_color={\n",
    "     \"Philly919\": 'rgb(14,195,210)',\n",
    "     \"unit_circle\": 'rgb(194,139,221)',\n",
    "     \"AlphaWired\": 'rgb(247,160,93)',\n",
    "     \"Sneads Foot\": 'rgb(70,214,113)',\n",
    "     \"New Team 4\": 'rgb(247,94,56)',\n",
    "     \"Team Gamble\": 'rgb(38,147,190)',\n",
    "     \"txmoonshine\": 'rgb(219,197,48)',\n",
    "     \"Putt Pirates\": 'rgb(115,112,106)'}\n",
    "\n",
    "active_color={\n",
    "    \"Active\":'rgb(146,146,143)',\n",
    "    \"Reserve\":'rgb(220,222,202)'\n",
    "    }\n",
    "\n",
    "teams_dict = {'919':'Philly919','u_c':'unit_circle',\n",
    "              'NT 4':'New Team 4','NT 8':'Sneads Foot',\n",
    "              'txms':'txmoonshine','MG':'Team Gamble',\n",
    "              'grrr':'Putt Pirates','[AW]':'AlphaWired'}"
   ]
  },
  {
   "cell_type": "code",
   "execution_count": null,
   "id": "88e8bd9a",
   "metadata": {},
   "outputs": [],
   "source": [
    "teams = pd.read_csv(fantrax ,usecols=['Player','Status','Roster Status'])\n",
    "teams[51:100]"
   ]
  },
  {
   "cell_type": "code",
   "execution_count": null,
   "id": "f1e8cdda",
   "metadata": {},
   "outputs": [],
   "source": [
    "dg_proj = pd.read_csv(dg)\n",
    "dg_proj[:50]"
   ]
  },
  {
   "cell_type": "code",
   "execution_count": null,
   "id": "5e8a755f",
   "metadata": {},
   "outputs": [],
   "source": [
    "#fx rosters\n",
    "\n",
    "teams = pd.read_csv(fantrax ,usecols=['Player','Status','Roster Status'])\n",
    "teams.columns = ['player','team','active_reserve']\n",
    "teams_dict = {'919':'Philly919','u_c':'unit_circle','NT 8':'Sneads Foot','NT 4':'New Team 4','txms':'txmoonshine','MG':'Team Gamble','grrr':'Putt Pirates','[AW]':'AlphaWired'}\n",
    "teams['team'] = teams.team.map(teams_dict)\n",
    "teams.set_index('player',inplace=True)\n",
    "\n",
    "# datagolf dk projections\n",
    "dg_proj = pd.read_csv(dg)#,usecols=['player_name','proj_points_total'])\n",
    "dg_proj = dg_proj[['player_name','proj_points_total']]\n",
    "dg_proj.columns = ['player','proj_pts']\n",
    "\n",
    "def fix_long_names(dg_proj):\n",
    "        #flip first and last name\n",
    "        names = dg_proj['player'].str.split(expand=True)                  \n",
    "        names[0] = names[0].str.rstrip(\",\")\n",
    "        names[1] = names[1].str.rstrip(\",\")\n",
    "        names['player'] = names[1] + \" \" + names[0]\n",
    "        # specific player to fix\n",
    "        names['player'] = np.where(names['player']=='Matt Fitzpatrick', 'Matthew Fitzpatrick', names['player'])\n",
    "        names['player'] = np.where(names['player']=='Si Kim', 'Si Woo Kim', names['player'])\n",
    "        names['player'] = np.where(names['player']=='Min Lee', 'Min Woo Lee', names['player'])\n",
    "        names['player'] = np.where(names['player']=='Byeong An', 'Byeong Hun An', names['player'])\n",
    "        names['player'] = np.where(names['player']=='Rooyen Van', 'Erik Van Rooyen', names['player'])\n",
    "        names['player'] = np.where(names['player']=='Vince Whaley', 'Vincent Whaley', names['player'])\n",
    "        return names.player\n",
    "\n",
    "# set index to new names\n",
    "dg_proj.set_index(fix_long_names(dg_proj),inplace=True)\n",
    "\n",
    "# merge fantrax rosters with datagolf projections\n",
    "week = pd.merge(teams,dg_proj, left_index=True, right_index=True)#.reset_index()\n",
    "week[['player','team','active_reserve']] = week[['player','team','active_reserve']].astype('string')\n",
    "week.sort_values('proj_pts',ascending=False,inplace=True)\n",
    "week"
   ]
  },
  {
   "cell_type": "code",
   "execution_count": null,
   "id": "fd1642c3",
   "metadata": {},
   "outputs": [],
   "source": [
    "sorted(week[week.active_reserve == 'Active'].index)"
   ]
  },
  {
   "cell_type": "code",
   "execution_count": null,
   "id": "0f1aacb8",
   "metadata": {},
   "outputs": [],
   "source": [
    "####   CURRENT WEEK INPUTS   ####\n",
    "current_week = 13\n",
    "tournament = \"Valero\"\n",
    "m1 = ['New Team 4','unit_circle']\n",
    "m2 = ['txmoonshine','Team Gamble']\n",
    "m3 = ['Putt Pirates','Philly919']\n",
    "m4 = ['AlphaWired','Sneads Foot']   "
   ]
  },
  {
   "cell_type": "code",
   "execution_count": null,
   "id": "a95b1ac0",
   "metadata": {},
   "outputs": [],
   "source": [
    "def get_matchup_bar(week,matchup):\n",
    "        matchup_bar = px.bar(week[(week.active_reserve=='Active') & (week.team.isin(matchup))].drop(columns='player').sort_values(by = 'proj_pts',ascending=False).reset_index(),\n",
    "                             y = 'proj_pts',\n",
    "                             color = 'team',\n",
    "                             color_discrete_map=team_color,\n",
    "                             labels = {'index':\"\", 'proj_pts':''},\n",
    "                             text='player',\n",
    "                             template = 'plotly_dark',\n",
    "                             hover_name='proj_pts',\n",
    "                             height=250,\n",
    "                             log_y=True\n",
    "                             ).update_xaxes(showticklabels=False\n",
    "                             ).update_yaxes(tickvals=[50,60,70,80,90,100], tickfont=dict(color='#5A5856')\n",
    "                             ).update_yaxes(gridcolor=\"#B1A999\", tickfont=dict(color='#5A5856')\n",
    "                             ).update_layout(legend=dict(orientation='h',title='',y=1.25,x=.2,font_color='#5A5856'))\n",
    "        return matchup_bar"
   ]
  },
  {
   "cell_type": "code",
   "execution_count": null,
   "id": "e65164dc",
   "metadata": {},
   "outputs": [],
   "source": [
    "get_matchup_bar(week,m4)"
   ]
  },
  {
   "cell_type": "code",
   "execution_count": null,
   "id": "327cd8bb",
   "metadata": {},
   "outputs": [],
   "source": [
    "#  TOP 20 PLAYS\n",
    "top20 = week.sort_values(by = 'proj_pts',ascending=False)[:20].reset_index(drop=True)\n",
    "px.bar(top20,\n",
    "        y = 'proj_pts',\n",
    "        color = 'team',\n",
    "        color_discrete_map=team_color,\n",
    "        labels = {'index':\"\", 'proj_pts':'Projected Pts'},\n",
    "        text=week[:20].index,\n",
    "        #       text_auto = \",.0f\",\n",
    "        template = 'plotly_white',\n",
    "        height=400,\n",
    "        log_y=True,\n",
    "        hover_name='player'\n",
    "        ).add_hline(y=week.proj_pts.mean(),line_color='darkslategrey'\n",
    "        ).update_xaxes(showticklabels=False\n",
    "        ).update_yaxes(showgrid=False)"
   ]
  },
  {
   "cell_type": "code",
   "execution_count": null,
   "id": "4100e8a0",
   "metadata": {},
   "outputs": [],
   "source": [
    "# ALL PLAYER PROJECTIONS FOR THE WEEK WITH ACTIVE/INACTIVE CALLOUT\n",
    "\n",
    "fig = px.bar(week.sort_values(by = 'proj_pts',ascending=False).drop(columns='player').reset_index(),#[:47],\n",
    "       y = 'proj_pts',\n",
    "       template='plotly_white',\n",
    "       title='Arnold Palmer Invitational Players on Rosters',\n",
    "#        hover_name = 'player',\n",
    "       color = 'active_reserve',\n",
    "       color_discrete_map=active_color,height=450,\n",
    "       labels = {'_index':\"\", 'proj_pts':'Projected Pts'}).add_hline(y=week.proj_pts.mean()).update_xaxes(showticklabels=False).update_layout(title_x=.5)\n",
    "fig.show()\n"
   ]
  },
  {
   "cell_type": "code",
   "execution_count": null,
   "id": "89fd392a",
   "metadata": {},
   "outputs": [],
   "source": [
    "# histogram showing active/inactive\n",
    "\n",
    "px.histogram(week,\n",
    "             x='proj_pts',\n",
    "             opacity=.7,\n",
    "             nbins=8, \n",
    "             color = 'active_reserve',\n",
    "             color_discrete_map=active_color,\n",
    "             barmode='group',\n",
    "             text_auto=True,\n",
    "             height=400)#.update_xaxes(tickmode='array',tick_vals=[\"40-49\", \"50-59\", \"60-69\", \"70-79\", \"80-89\"])"
   ]
  },
  {
   "cell_type": "code",
   "execution_count": null,
   "id": "db5e8ae6",
   "metadata": {
    "scrolled": false
   },
   "outputs": [],
   "source": [
    "# MAKE DATAFRAME WITH ONLY TOP 6 PROJECTED PLAYERS BY TEAM\n",
    "\n",
    "top_6_proj = pd.DataFrame()\n",
    "\n",
    "for team in week.team.unique():\n",
    "    temp = week[week.team==team][['team','player','proj_pts','active_reserve']].sort_values(by='proj_pts',ascending=False)[:6]\n",
    "    top_6_proj = pd.concat([top_6_proj,temp])\n",
    "    top_6_proj = top_6_proj.sort_values('proj_pts',ascending=False).reset_index(drop=True)\n",
    "\n",
    "print(\"Of the 48 Top Plays...\")\n",
    "print(top_6_proj.active_reserve.value_counts())\n",
    "top_6_proj.sort_values('proj_pts',ascending=False).reset_index(drop=True).head()"
   ]
  },
  {
   "cell_type": "code",
   "execution_count": null,
   "id": "09e6a1e8",
   "metadata": {},
   "outputs": [],
   "source": [
    "teams_dict = {\n",
    "        '919':'Philly919',\n",
    "        'u_c':'unit_circle',\n",
    "        'NT 4':'New Team 4',\n",
    "        'NT 8':'Sneads Foot',\n",
    "        'txms':'txmoonshine',\n",
    "        'MG':'Team Gamble',\n",
    "        'grrr':'Putt Pirates',\n",
    "        '[AW]':'AlphaWired'\n",
    "        }\n",
    "\n",
    "tab_string = []\n",
    "\n",
    "for i in range(len(teams_dict.keys())):\n",
    "    tab_string.append(f\"tab{i},\")\n",
    "\n",
    "''.join(tab_string) = st.tabs(list(teams_dict.keys()))\n",
    "\n",
    "for tab in tab_string:\n",
    "    for team in list(teams_dict.keys()):\n",
    "        tab_string[tab].rstrip(\",\").plotly_chart(get_team_bar(week, team), use_container_width=True, config=config)"
   ]
  },
  {
   "cell_type": "code",
   "execution_count": null,
   "id": "14a68f67",
   "metadata": {},
   "outputs": [],
   "source": [
    "for i in tab_string:\n",
    "    f'{i.rstrip(\",\").plotly_chart(get_team_bar(week, team), use_container_width=True, config=config)}'"
   ]
  },
  {
   "cell_type": "code",
   "execution_count": null,
   "id": "82edcc49",
   "metadata": {
    "scrolled": false
   },
   "outputs": [],
   "source": [
    "# PLAYER OPTIONS FOR EACH TEAM THIS WEEK\n",
    "\n",
    "for team in week.team.unique():\n",
    "    fig = px.bar(week[week.team == team].sort_values(by='proj_pts',ascending=False), \n",
    "                 x = 'player', \n",
    "                 y = 'proj_pts', \n",
    "                 height=350,\n",
    "                 width=600,\n",
    "                 title = f\"Choices for {team}\", \n",
    "                 color='active_reserve', \n",
    "                 text_auto='.2s',\n",
    "                 template = 'plotly_dark',\n",
    "                 color_discrete_map=active_color,\n",
    "                 labels = {'proj_pts':'Projected Points','player':\"Eligible Players\"})\n",
    "    fig.show()"
   ]
  },
  {
   "cell_type": "code",
   "execution_count": null,
   "id": "e76de048",
   "metadata": {},
   "outputs": [],
   "source": [
    "get_matchups(19)"
   ]
  },
  {
   "cell_type": "code",
   "execution_count": null,
   "id": "ad2f1280",
   "metadata": {},
   "outputs": [],
   "source": []
  }
 ],
 "metadata": {
  "kernelspec": {
   "display_name": "Python 3 (ipykernel)",
   "language": "python",
   "name": "python3"
  },
  "language_info": {
   "codemirror_mode": {
    "name": "ipython",
    "version": 3
   },
   "file_extension": ".py",
   "mimetype": "text/x-python",
   "name": "python",
   "nbconvert_exporter": "python",
   "pygments_lexer": "ipython3",
   "version": "3.11.5"
  }
 },
 "nbformat": 4,
 "nbformat_minor": 5
}
