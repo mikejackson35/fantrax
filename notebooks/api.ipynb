{
 "cells": [
  {
   "cell_type": "code",
   "execution_count": 3,
   "id": "b6e92b7e",
   "metadata": {},
   "outputs": [],
   "source": [
    "from fantraxapi import FantraxAPI\n",
    "\n",
    "import pandas as pd\n",
    "import numpy as np\n"
   ]
  },
  {
   "cell_type": "code",
   "execution_count": 6,
   "id": "c1aecc32",
   "metadata": {},
   "outputs": [],
   "source": [
    "# make instance using league id\n",
    "\n",
    "league_id = \"cfakpj5llqy9xrv8\"\n",
    "\n",
    "api = FantraxAPI(league_id)"
   ]
  },
  {
   "cell_type": "code",
   "execution_count": 23,
   "id": "b26abf7e",
   "metadata": {},
   "outputs": [
    {
     "name": "stdout",
     "output_type": "stream",
     "text": [
      "cfakpj5llqy9xrv8\n"
     ]
    }
   ],
   "source": [
    "print(api.league_id)"
   ]
  },
  {
   "cell_type": "code",
   "execution_count": 33,
   "id": "f38c8f6c",
   "metadata": {},
   "outputs": [
    {
     "name": "stdout",
     "output_type": "stream",
     "text": [
      "cfakpj5llqy9xrv8\n"
     ]
    }
   ],
   "source": [
    "print(api.)"
   ]
  },
  {
   "cell_type": "code",
   "execution_count": null,
   "id": "87751626",
   "metadata": {},
   "outputs": [],
   "source": []
  }
 ],
 "metadata": {
  "kernelspec": {
   "display_name": "Python 3 (ipykernel)",
   "language": "python",
   "name": "python3"
  },
  "language_info": {
   "codemirror_mode": {
    "name": "ipython",
    "version": 3
   },
   "file_extension": ".py",
   "mimetype": "text/x-python",
   "name": "python",
   "nbconvert_exporter": "python",
   "pygments_lexer": "ipython3",
   "version": "3.11.5"
  }
 },
 "nbformat": 4,
 "nbformat_minor": 5
}
