{
 "cells": [
  {
   "cell_type": "code",
   "execution_count": 1,
   "id": "a4b535c5",
   "metadata": {},
   "outputs": [],
   "source": [
    "import pandas as pd\n",
    "import plotly.express as px\n",
    "import statsmodels.api as sm\n",
    "import numpy as np"
   ]
  },
  {
   "cell_type": "code",
   "execution_count": 2,
   "id": "2f4d04e8",
   "metadata": {},
   "outputs": [
    {
     "data": {
      "text/html": [
       "<div>\n",
       "<style scoped>\n",
       "    .dataframe tbody tr th:only-of-type {\n",
       "        vertical-align: middle;\n",
       "    }\n",
       "\n",
       "    .dataframe tbody tr th {\n",
       "        vertical-align: top;\n",
       "    }\n",
       "\n",
       "    .dataframe thead th {\n",
       "        text-align: right;\n",
       "    }\n",
       "</style>\n",
       "<table border=\"1\" class=\"dataframe\">\n",
       "  <thead>\n",
       "    <tr style=\"text-align: right;\">\n",
       "      <th></th>\n",
       "      <th>team</th>\n",
       "      <th>players_started</th>\n",
       "      <th>pars_num</th>\n",
       "      <th>bird_num</th>\n",
       "      <th>eag_num</th>\n",
       "      <th>bog_num</th>\n",
       "      <th>dbog_num</th>\n",
       "      <th>alb_num</th>\n",
       "      <th>h1_num</th>\n",
       "      <th>other_num</th>\n",
       "      <th>...</th>\n",
       "      <th>eag_pts</th>\n",
       "      <th>bog_pts</th>\n",
       "      <th>dbog_pts</th>\n",
       "      <th>alb_pts</th>\n",
       "      <th>h1_pts</th>\n",
       "      <th>other_pts</th>\n",
       "      <th>plc_pts</th>\n",
       "      <th>total_pts</th>\n",
       "      <th>total_holes</th>\n",
       "      <th>pp_hole</th>\n",
       "    </tr>\n",
       "  </thead>\n",
       "  <tbody>\n",
       "    <tr>\n",
       "      <th>0</th>\n",
       "      <td>AlphaWired</td>\n",
       "      <td>6</td>\n",
       "      <td>233</td>\n",
       "      <td>85</td>\n",
       "      <td>2</td>\n",
       "      <td>36</td>\n",
       "      <td>3</td>\n",
       "      <td>0</td>\n",
       "      <td>0</td>\n",
       "      <td>1</td>\n",
       "      <td>...</td>\n",
       "      <td>16</td>\n",
       "      <td>-18.0</td>\n",
       "      <td>-3</td>\n",
       "      <td>0</td>\n",
       "      <td>0</td>\n",
       "      <td>-1</td>\n",
       "      <td>22</td>\n",
       "      <td>387.5</td>\n",
       "      <td>360</td>\n",
       "      <td>1.076389</td>\n",
       "    </tr>\n",
       "    <tr>\n",
       "      <th>1</th>\n",
       "      <td>New Team 4</td>\n",
       "      <td>3</td>\n",
       "      <td>137</td>\n",
       "      <td>49</td>\n",
       "      <td>4</td>\n",
       "      <td>24</td>\n",
       "      <td>2</td>\n",
       "      <td>0</td>\n",
       "      <td>0</td>\n",
       "      <td>0</td>\n",
       "      <td>...</td>\n",
       "      <td>32</td>\n",
       "      <td>-12.0</td>\n",
       "      <td>-2</td>\n",
       "      <td>0</td>\n",
       "      <td>0</td>\n",
       "      <td>0</td>\n",
       "      <td>10</td>\n",
       "      <td>243.5</td>\n",
       "      <td>216</td>\n",
       "      <td>1.127315</td>\n",
       "    </tr>\n",
       "    <tr>\n",
       "      <th>2</th>\n",
       "      <td>Philly919</td>\n",
       "      <td>6</td>\n",
       "      <td>284</td>\n",
       "      <td>93</td>\n",
       "      <td>4</td>\n",
       "      <td>51</td>\n",
       "      <td>0</td>\n",
       "      <td>0</td>\n",
       "      <td>0</td>\n",
       "      <td>0</td>\n",
       "      <td>...</td>\n",
       "      <td>32</td>\n",
       "      <td>-25.5</td>\n",
       "      <td>0</td>\n",
       "      <td>0</td>\n",
       "      <td>0</td>\n",
       "      <td>0</td>\n",
       "      <td>27</td>\n",
       "      <td>454.5</td>\n",
       "      <td>432</td>\n",
       "      <td>1.052083</td>\n",
       "    </tr>\n",
       "    <tr>\n",
       "      <th>3</th>\n",
       "      <td>Putt Pirates</td>\n",
       "      <td>6</td>\n",
       "      <td>224</td>\n",
       "      <td>81</td>\n",
       "      <td>7</td>\n",
       "      <td>44</td>\n",
       "      <td>4</td>\n",
       "      <td>0</td>\n",
       "      <td>0</td>\n",
       "      <td>0</td>\n",
       "      <td>...</td>\n",
       "      <td>56</td>\n",
       "      <td>-22.0</td>\n",
       "      <td>-4</td>\n",
       "      <td>0</td>\n",
       "      <td>0</td>\n",
       "      <td>0</td>\n",
       "      <td>27</td>\n",
       "      <td>412.0</td>\n",
       "      <td>360</td>\n",
       "      <td>1.144444</td>\n",
       "    </tr>\n",
       "    <tr>\n",
       "      <th>4</th>\n",
       "      <td>Sneads Foot</td>\n",
       "      <td>6</td>\n",
       "      <td>189</td>\n",
       "      <td>58</td>\n",
       "      <td>2</td>\n",
       "      <td>32</td>\n",
       "      <td>7</td>\n",
       "      <td>0</td>\n",
       "      <td>0</td>\n",
       "      <td>0</td>\n",
       "      <td>...</td>\n",
       "      <td>16</td>\n",
       "      <td>-16.0</td>\n",
       "      <td>-7</td>\n",
       "      <td>0</td>\n",
       "      <td>0</td>\n",
       "      <td>0</td>\n",
       "      <td>2</td>\n",
       "      <td>263.5</td>\n",
       "      <td>288</td>\n",
       "      <td>0.914931</td>\n",
       "    </tr>\n",
       "    <tr>\n",
       "      <th>...</th>\n",
       "      <td>...</td>\n",
       "      <td>...</td>\n",
       "      <td>...</td>\n",
       "      <td>...</td>\n",
       "      <td>...</td>\n",
       "      <td>...</td>\n",
       "      <td>...</td>\n",
       "      <td>...</td>\n",
       "      <td>...</td>\n",
       "      <td>...</td>\n",
       "      <td>...</td>\n",
       "      <td>...</td>\n",
       "      <td>...</td>\n",
       "      <td>...</td>\n",
       "      <td>...</td>\n",
       "      <td>...</td>\n",
       "      <td>...</td>\n",
       "      <td>...</td>\n",
       "      <td>...</td>\n",
       "      <td>...</td>\n",
       "      <td>...</td>\n",
       "    </tr>\n",
       "    <tr>\n",
       "      <th>107</th>\n",
       "      <td>New Team 4</td>\n",
       "      <td>6</td>\n",
       "      <td>246</td>\n",
       "      <td>71</td>\n",
       "      <td>0</td>\n",
       "      <td>63</td>\n",
       "      <td>16</td>\n",
       "      <td>0</td>\n",
       "      <td>0</td>\n",
       "      <td>0</td>\n",
       "      <td>...</td>\n",
       "      <td>0</td>\n",
       "      <td>-31.5</td>\n",
       "      <td>-16</td>\n",
       "      <td>0</td>\n",
       "      <td>0</td>\n",
       "      <td>0</td>\n",
       "      <td>36</td>\n",
       "      <td>324.5</td>\n",
       "      <td>396</td>\n",
       "      <td>0.819444</td>\n",
       "    </tr>\n",
       "    <tr>\n",
       "      <th>108</th>\n",
       "      <td>Putt Pirates</td>\n",
       "      <td>6</td>\n",
       "      <td>200</td>\n",
       "      <td>63</td>\n",
       "      <td>2</td>\n",
       "      <td>89</td>\n",
       "      <td>5</td>\n",
       "      <td>0</td>\n",
       "      <td>0</td>\n",
       "      <td>1</td>\n",
       "      <td>...</td>\n",
       "      <td>16</td>\n",
       "      <td>-44.5</td>\n",
       "      <td>-5</td>\n",
       "      <td>0</td>\n",
       "      <td>0</td>\n",
       "      <td>-1</td>\n",
       "      <td>58</td>\n",
       "      <td>312.5</td>\n",
       "      <td>360</td>\n",
       "      <td>0.868056</td>\n",
       "    </tr>\n",
       "    <tr>\n",
       "      <th>109</th>\n",
       "      <td>Sneads Foot</td>\n",
       "      <td>6</td>\n",
       "      <td>237</td>\n",
       "      <td>67</td>\n",
       "      <td>1</td>\n",
       "      <td>78</td>\n",
       "      <td>12</td>\n",
       "      <td>0</td>\n",
       "      <td>0</td>\n",
       "      <td>1</td>\n",
       "      <td>...</td>\n",
       "      <td>8</td>\n",
       "      <td>-39.0</td>\n",
       "      <td>-12</td>\n",
       "      <td>0</td>\n",
       "      <td>0</td>\n",
       "      <td>-1</td>\n",
       "      <td>16</td>\n",
       "      <td>291.5</td>\n",
       "      <td>396</td>\n",
       "      <td>0.736111</td>\n",
       "    </tr>\n",
       "    <tr>\n",
       "      <th>110</th>\n",
       "      <td>AlphaWired</td>\n",
       "      <td>6</td>\n",
       "      <td>210</td>\n",
       "      <td>48</td>\n",
       "      <td>0</td>\n",
       "      <td>52</td>\n",
       "      <td>12</td>\n",
       "      <td>0</td>\n",
       "      <td>0</td>\n",
       "      <td>2</td>\n",
       "      <td>...</td>\n",
       "      <td>0</td>\n",
       "      <td>-26.0</td>\n",
       "      <td>-12</td>\n",
       "      <td>0</td>\n",
       "      <td>0</td>\n",
       "      <td>-2</td>\n",
       "      <td>16</td>\n",
       "      <td>225.0</td>\n",
       "      <td>324</td>\n",
       "      <td>0.694444</td>\n",
       "    </tr>\n",
       "    <tr>\n",
       "      <th>111</th>\n",
       "      <td>Team Gamble</td>\n",
       "      <td>6</td>\n",
       "      <td>192</td>\n",
       "      <td>52</td>\n",
       "      <td>0</td>\n",
       "      <td>70</td>\n",
       "      <td>9</td>\n",
       "      <td>0</td>\n",
       "      <td>0</td>\n",
       "      <td>1</td>\n",
       "      <td>...</td>\n",
       "      <td>0</td>\n",
       "      <td>-35.0</td>\n",
       "      <td>-9</td>\n",
       "      <td>0</td>\n",
       "      <td>0</td>\n",
       "      <td>-1</td>\n",
       "      <td>11</td>\n",
       "      <td>218.0</td>\n",
       "      <td>324</td>\n",
       "      <td>0.672840</td>\n",
       "    </tr>\n",
       "  </tbody>\n",
       "</table>\n",
       "<p>112 rows × 41 columns</p>\n",
       "</div>"
      ],
      "text/plain": [
       "             team  players_started  pars_num  bird_num  eag_num  bog_num  \\\n",
       "0      AlphaWired                6       233        85        2       36   \n",
       "1      New Team 4                3       137        49        4       24   \n",
       "2       Philly919                6       284        93        4       51   \n",
       "3    Putt Pirates                6       224        81        7       44   \n",
       "4     Sneads Foot                6       189        58        2       32   \n",
       "..            ...              ...       ...       ...      ...      ...   \n",
       "107    New Team 4                6       246        71        0       63   \n",
       "108  Putt Pirates                6       200        63        2       89   \n",
       "109   Sneads Foot                6       237        67        1       78   \n",
       "110    AlphaWired                6       210        48        0       52   \n",
       "111   Team Gamble                6       192        52        0       70   \n",
       "\n",
       "     dbog_num  alb_num  h1_num  other_num  ...  eag_pts  bog_pts  dbog_pts  \\\n",
       "0           3        0       0          1  ...       16    -18.0        -3   \n",
       "1           2        0       0          0  ...       32    -12.0        -2   \n",
       "2           0        0       0          0  ...       32    -25.5         0   \n",
       "3           4        0       0          0  ...       56    -22.0        -4   \n",
       "4           7        0       0          0  ...       16    -16.0        -7   \n",
       "..        ...      ...     ...        ...  ...      ...      ...       ...   \n",
       "107        16        0       0          0  ...        0    -31.5       -16   \n",
       "108         5        0       0          1  ...       16    -44.5        -5   \n",
       "109        12        0       0          1  ...        8    -39.0       -12   \n",
       "110        12        0       0          2  ...        0    -26.0       -12   \n",
       "111         9        0       0          1  ...        0    -35.0        -9   \n",
       "\n",
       "    alb_pts  h1_pts  other_pts  plc_pts  total_pts  total_holes   pp_hole  \n",
       "0         0       0         -1       22      387.5          360  1.076389  \n",
       "1         0       0          0       10      243.5          216  1.127315  \n",
       "2         0       0          0       27      454.5          432  1.052083  \n",
       "3         0       0          0       27      412.0          360  1.144444  \n",
       "4         0       0          0        2      263.5          288  0.914931  \n",
       "..      ...     ...        ...      ...        ...          ...       ...  \n",
       "107       0       0          0       36      324.5          396  0.819444  \n",
       "108       0       0         -1       58      312.5          360  0.868056  \n",
       "109       0       0         -1       16      291.5          396  0.736111  \n",
       "110       0       0         -2       16      225.0          324  0.694444  \n",
       "111       0       0         -1       11      218.0          324  0.672840  \n",
       "\n",
       "[112 rows x 41 columns]"
      ]
     },
     "execution_count": 2,
     "metadata": {},
     "output_type": "execute_result"
    }
   ],
   "source": [
    "df = pd.read_excel(r\"C:\\Users\\mikej\\Desktop\\fantrax\\fantrax_season_data.xlsm\")\n",
    "df"
   ]
  },
  {
   "cell_type": "code",
   "execution_count": 4,
   "id": "ca7f0abc",
   "metadata": {},
   "outputs": [],
   "source": [
    "team_color={\n",
    "            \"Philly919\": 'rgb(14,195,210)',\n",
    "            \"unit_circle\": 'rgb(194,139,221)',\n",
    "            \"AlphaWired\": 'rgb(247,160,93)',\n",
    "            \"Sneads Foot\": 'rgb(70,214,113)',\n",
    "            \"New Team 4\": 'rgb(247,94,56)',\n",
    "            \"Team Gamble\": 'rgb(38,147,190)',\n",
    "            \"txmoonshine\": 'rgb(219,197,48)',\n",
    "            \"Putt Pirates\": 'rgb(115,112,106)'\n",
    "            }\n"
   ]
  },
  {
   "cell_type": "code",
   "execution_count": 5,
   "id": "da6ff787",
   "metadata": {},
   "outputs": [
    {
     "data": {
      "application/vnd.plotly.v1+json": {
       "config": {
        "plotlyServerURL": "https://plot.ly"
       },
       "data": [
        {
         "hovertemplate": "team=AlphaWired<br>week=%{x}<br>value=%{y}<extra></extra>",
         "legendgroup": "AlphaWired",
         "marker": {
          "color": "#636efa",
          "symbol": "circle"
         },
         "mode": "markers",
         "name": "AlphaWired",
         "orientation": "v",
         "showlegend": true,
         "type": "scatter",
         "x": [
          1,
          2,
          3,
          4,
          5,
          6,
          7,
          8,
          9,
          10,
          11,
          12,
          13,
          14
         ],
         "xaxis": "x",
         "y": [
          4,
          4,
          5,
          6,
          6,
          4,
          3,
          2,
          6,
          5,
          2,
          3,
          4,
          3
         ],
         "yaxis": "y"
        },
        {
         "hovertemplate": "team=New Team 4<br>week=%{x}<br>value=%{y}<extra></extra>",
         "legendgroup": "New Team 4",
         "marker": {
          "color": "#EF553B",
          "symbol": "circle"
         },
         "mode": "markers",
         "name": "New Team 4",
         "orientation": "v",
         "showlegend": true,
         "type": "scatter",
         "x": [
          1,
          2,
          3,
          4,
          5,
          6,
          7,
          8,
          9,
          10,
          11,
          12,
          13,
          14
         ],
         "xaxis": "x",
         "y": [
          3,
          2,
          5,
          6,
          4,
          4,
          3,
          3,
          6,
          3,
          3,
          4,
          4,
          5
         ],
         "yaxis": "y"
        },
        {
         "hovertemplate": "team=Philly919<br>week=%{x}<br>value=%{y}<extra></extra>",
         "legendgroup": "Philly919",
         "marker": {
          "color": "#00cc96",
          "symbol": "circle"
         },
         "mode": "markers",
         "name": "Philly919",
         "orientation": "v",
         "showlegend": true,
         "type": "scatter",
         "x": [
          1,
          2,
          3,
          4,
          5,
          6,
          7,
          8,
          9,
          10,
          11,
          12,
          13,
          14
         ],
         "xaxis": "x",
         "y": [
          6,
          4,
          4,
          6,
          4,
          4,
          2,
          3,
          5,
          3,
          1,
          4,
          6,
          5
         ],
         "yaxis": "y"
        },
        {
         "hovertemplate": "team=Putt Pirates<br>week=%{x}<br>value=%{y}<extra></extra>",
         "legendgroup": "Putt Pirates",
         "marker": {
          "color": "#ab63fa",
          "symbol": "circle"
         },
         "mode": "markers",
         "name": "Putt Pirates",
         "orientation": "v",
         "showlegend": true,
         "type": "scatter",
         "x": [
          1,
          2,
          3,
          4,
          5,
          6,
          7,
          8,
          9,
          10,
          11,
          12,
          13,
          14
         ],
         "xaxis": "x",
         "y": [
          4,
          4,
          4,
          6,
          6,
          6,
          5,
          3,
          5,
          5,
          6,
          5,
          4,
          4
         ],
         "yaxis": "y"
        },
        {
         "hovertemplate": "team=Sneads Foot<br>week=%{x}<br>value=%{y}<extra></extra>",
         "legendgroup": "Sneads Foot",
         "marker": {
          "color": "#FFA15A",
          "symbol": "circle"
         },
         "mode": "markers",
         "name": "Sneads Foot",
         "orientation": "v",
         "showlegend": true,
         "type": "scatter",
         "x": [
          1,
          2,
          3,
          4,
          5,
          6,
          7,
          8,
          9,
          10,
          11,
          12,
          13,
          14
         ],
         "xaxis": "x",
         "y": [
          2,
          3,
          3,
          6,
          2,
          4,
          4,
          6,
          5,
          4,
          5,
          5,
          3,
          5
         ],
         "yaxis": "y"
        },
        {
         "hovertemplate": "team=Team Gamble<br>week=%{x}<br>value=%{y}<extra></extra>",
         "legendgroup": "Team Gamble",
         "marker": {
          "color": "#19d3f3",
          "symbol": "circle"
         },
         "mode": "markers",
         "name": "Team Gamble",
         "orientation": "v",
         "showlegend": true,
         "type": "scatter",
         "x": [
          1,
          2,
          3,
          4,
          5,
          6,
          7,
          8,
          9,
          10,
          11,
          12,
          13,
          14
         ],
         "xaxis": "x",
         "y": [
          6,
          5,
          2,
          6,
          4,
          4,
          3,
          4,
          6,
          1,
          5,
          3,
          2,
          3
         ],
         "yaxis": "y"
        },
        {
         "hovertemplate": "team=txmoonshine<br>week=%{x}<br>value=%{y}<extra></extra>",
         "legendgroup": "txmoonshine",
         "marker": {
          "color": "#FF6692",
          "symbol": "circle"
         },
         "mode": "markers",
         "name": "txmoonshine",
         "orientation": "v",
         "showlegend": true,
         "type": "scatter",
         "x": [
          1,
          2,
          3,
          4,
          5,
          6,
          7,
          8,
          9,
          10,
          11,
          12,
          13,
          14
         ],
         "xaxis": "x",
         "y": [
          4,
          4,
          3,
          6,
          3,
          4,
          4,
          6,
          3,
          3,
          3,
          5,
          5,
          5
         ],
         "yaxis": "y"
        },
        {
         "hovertemplate": "team=unit_circle<br>week=%{x}<br>value=%{y}<extra></extra>",
         "legendgroup": "unit_circle",
         "marker": {
          "color": "#B6E880",
          "symbol": "circle"
         },
         "mode": "markers",
         "name": "unit_circle",
         "orientation": "v",
         "showlegend": true,
         "type": "scatter",
         "x": [
          1,
          2,
          3,
          4,
          5,
          6,
          7,
          8,
          9,
          10,
          11,
          12,
          13,
          14
         ],
         "xaxis": "x",
         "y": [
          6,
          3,
          6,
          6,
          6,
          6,
          3,
          4,
          5,
          6,
          1,
          2,
          6,
          6
         ],
         "yaxis": "y"
        }
       ],
       "layout": {
        "legend": {
         "title": {
          "text": "team"
         },
         "tracegroupgap": 0
        },
        "margin": {
         "t": 60
        },
        "template": {
         "data": {
          "bar": [
           {
            "error_x": {
             "color": "#2a3f5f"
            },
            "error_y": {
             "color": "#2a3f5f"
            },
            "marker": {
             "line": {
              "color": "#E5ECF6",
              "width": 0.5
             },
             "pattern": {
              "fillmode": "overlay",
              "size": 10,
              "solidity": 0.2
             }
            },
            "type": "bar"
           }
          ],
          "barpolar": [
           {
            "marker": {
             "line": {
              "color": "#E5ECF6",
              "width": 0.5
             },
             "pattern": {
              "fillmode": "overlay",
              "size": 10,
              "solidity": 0.2
             }
            },
            "type": "barpolar"
           }
          ],
          "carpet": [
           {
            "aaxis": {
             "endlinecolor": "#2a3f5f",
             "gridcolor": "white",
             "linecolor": "white",
             "minorgridcolor": "white",
             "startlinecolor": "#2a3f5f"
            },
            "baxis": {
             "endlinecolor": "#2a3f5f",
             "gridcolor": "white",
             "linecolor": "white",
             "minorgridcolor": "white",
             "startlinecolor": "#2a3f5f"
            },
            "type": "carpet"
           }
          ],
          "choropleth": [
           {
            "colorbar": {
             "outlinewidth": 0,
             "ticks": ""
            },
            "type": "choropleth"
           }
          ],
          "contour": [
           {
            "colorbar": {
             "outlinewidth": 0,
             "ticks": ""
            },
            "colorscale": [
             [
              0,
              "#0d0887"
             ],
             [
              0.1111111111111111,
              "#46039f"
             ],
             [
              0.2222222222222222,
              "#7201a8"
             ],
             [
              0.3333333333333333,
              "#9c179e"
             ],
             [
              0.4444444444444444,
              "#bd3786"
             ],
             [
              0.5555555555555556,
              "#d8576b"
             ],
             [
              0.6666666666666666,
              "#ed7953"
             ],
             [
              0.7777777777777778,
              "#fb9f3a"
             ],
             [
              0.8888888888888888,
              "#fdca26"
             ],
             [
              1,
              "#f0f921"
             ]
            ],
            "type": "contour"
           }
          ],
          "contourcarpet": [
           {
            "colorbar": {
             "outlinewidth": 0,
             "ticks": ""
            },
            "type": "contourcarpet"
           }
          ],
          "heatmap": [
           {
            "colorbar": {
             "outlinewidth": 0,
             "ticks": ""
            },
            "colorscale": [
             [
              0,
              "#0d0887"
             ],
             [
              0.1111111111111111,
              "#46039f"
             ],
             [
              0.2222222222222222,
              "#7201a8"
             ],
             [
              0.3333333333333333,
              "#9c179e"
             ],
             [
              0.4444444444444444,
              "#bd3786"
             ],
             [
              0.5555555555555556,
              "#d8576b"
             ],
             [
              0.6666666666666666,
              "#ed7953"
             ],
             [
              0.7777777777777778,
              "#fb9f3a"
             ],
             [
              0.8888888888888888,
              "#fdca26"
             ],
             [
              1,
              "#f0f921"
             ]
            ],
            "type": "heatmap"
           }
          ],
          "heatmapgl": [
           {
            "colorbar": {
             "outlinewidth": 0,
             "ticks": ""
            },
            "colorscale": [
             [
              0,
              "#0d0887"
             ],
             [
              0.1111111111111111,
              "#46039f"
             ],
             [
              0.2222222222222222,
              "#7201a8"
             ],
             [
              0.3333333333333333,
              "#9c179e"
             ],
             [
              0.4444444444444444,
              "#bd3786"
             ],
             [
              0.5555555555555556,
              "#d8576b"
             ],
             [
              0.6666666666666666,
              "#ed7953"
             ],
             [
              0.7777777777777778,
              "#fb9f3a"
             ],
             [
              0.8888888888888888,
              "#fdca26"
             ],
             [
              1,
              "#f0f921"
             ]
            ],
            "type": "heatmapgl"
           }
          ],
          "histogram": [
           {
            "marker": {
             "pattern": {
              "fillmode": "overlay",
              "size": 10,
              "solidity": 0.2
             }
            },
            "type": "histogram"
           }
          ],
          "histogram2d": [
           {
            "colorbar": {
             "outlinewidth": 0,
             "ticks": ""
            },
            "colorscale": [
             [
              0,
              "#0d0887"
             ],
             [
              0.1111111111111111,
              "#46039f"
             ],
             [
              0.2222222222222222,
              "#7201a8"
             ],
             [
              0.3333333333333333,
              "#9c179e"
             ],
             [
              0.4444444444444444,
              "#bd3786"
             ],
             [
              0.5555555555555556,
              "#d8576b"
             ],
             [
              0.6666666666666666,
              "#ed7953"
             ],
             [
              0.7777777777777778,
              "#fb9f3a"
             ],
             [
              0.8888888888888888,
              "#fdca26"
             ],
             [
              1,
              "#f0f921"
             ]
            ],
            "type": "histogram2d"
           }
          ],
          "histogram2dcontour": [
           {
            "colorbar": {
             "outlinewidth": 0,
             "ticks": ""
            },
            "colorscale": [
             [
              0,
              "#0d0887"
             ],
             [
              0.1111111111111111,
              "#46039f"
             ],
             [
              0.2222222222222222,
              "#7201a8"
             ],
             [
              0.3333333333333333,
              "#9c179e"
             ],
             [
              0.4444444444444444,
              "#bd3786"
             ],
             [
              0.5555555555555556,
              "#d8576b"
             ],
             [
              0.6666666666666666,
              "#ed7953"
             ],
             [
              0.7777777777777778,
              "#fb9f3a"
             ],
             [
              0.8888888888888888,
              "#fdca26"
             ],
             [
              1,
              "#f0f921"
             ]
            ],
            "type": "histogram2dcontour"
           }
          ],
          "mesh3d": [
           {
            "colorbar": {
             "outlinewidth": 0,
             "ticks": ""
            },
            "type": "mesh3d"
           }
          ],
          "parcoords": [
           {
            "line": {
             "colorbar": {
              "outlinewidth": 0,
              "ticks": ""
             }
            },
            "type": "parcoords"
           }
          ],
          "pie": [
           {
            "automargin": true,
            "type": "pie"
           }
          ],
          "scatter": [
           {
            "fillpattern": {
             "fillmode": "overlay",
             "size": 10,
             "solidity": 0.2
            },
            "type": "scatter"
           }
          ],
          "scatter3d": [
           {
            "line": {
             "colorbar": {
              "outlinewidth": 0,
              "ticks": ""
             }
            },
            "marker": {
             "colorbar": {
              "outlinewidth": 0,
              "ticks": ""
             }
            },
            "type": "scatter3d"
           }
          ],
          "scattercarpet": [
           {
            "marker": {
             "colorbar": {
              "outlinewidth": 0,
              "ticks": ""
             }
            },
            "type": "scattercarpet"
           }
          ],
          "scattergeo": [
           {
            "marker": {
             "colorbar": {
              "outlinewidth": 0,
              "ticks": ""
             }
            },
            "type": "scattergeo"
           }
          ],
          "scattergl": [
           {
            "marker": {
             "colorbar": {
              "outlinewidth": 0,
              "ticks": ""
             }
            },
            "type": "scattergl"
           }
          ],
          "scattermapbox": [
           {
            "marker": {
             "colorbar": {
              "outlinewidth": 0,
              "ticks": ""
             }
            },
            "type": "scattermapbox"
           }
          ],
          "scatterpolar": [
           {
            "marker": {
             "colorbar": {
              "outlinewidth": 0,
              "ticks": ""
             }
            },
            "type": "scatterpolar"
           }
          ],
          "scatterpolargl": [
           {
            "marker": {
             "colorbar": {
              "outlinewidth": 0,
              "ticks": ""
             }
            },
            "type": "scatterpolargl"
           }
          ],
          "scatterternary": [
           {
            "marker": {
             "colorbar": {
              "outlinewidth": 0,
              "ticks": ""
             }
            },
            "type": "scatterternary"
           }
          ],
          "surface": [
           {
            "colorbar": {
             "outlinewidth": 0,
             "ticks": ""
            },
            "colorscale": [
             [
              0,
              "#0d0887"
             ],
             [
              0.1111111111111111,
              "#46039f"
             ],
             [
              0.2222222222222222,
              "#7201a8"
             ],
             [
              0.3333333333333333,
              "#9c179e"
             ],
             [
              0.4444444444444444,
              "#bd3786"
             ],
             [
              0.5555555555555556,
              "#d8576b"
             ],
             [
              0.6666666666666666,
              "#ed7953"
             ],
             [
              0.7777777777777778,
              "#fb9f3a"
             ],
             [
              0.8888888888888888,
              "#fdca26"
             ],
             [
              1,
              "#f0f921"
             ]
            ],
            "type": "surface"
           }
          ],
          "table": [
           {
            "cells": {
             "fill": {
              "color": "#EBF0F8"
             },
             "line": {
              "color": "white"
             }
            },
            "header": {
             "fill": {
              "color": "#C8D4E3"
             },
             "line": {
              "color": "white"
             }
            },
            "type": "table"
           }
          ]
         },
         "layout": {
          "annotationdefaults": {
           "arrowcolor": "#2a3f5f",
           "arrowhead": 0,
           "arrowwidth": 1
          },
          "autotypenumbers": "strict",
          "coloraxis": {
           "colorbar": {
            "outlinewidth": 0,
            "ticks": ""
           }
          },
          "colorscale": {
           "diverging": [
            [
             0,
             "#8e0152"
            ],
            [
             0.1,
             "#c51b7d"
            ],
            [
             0.2,
             "#de77ae"
            ],
            [
             0.3,
             "#f1b6da"
            ],
            [
             0.4,
             "#fde0ef"
            ],
            [
             0.5,
             "#f7f7f7"
            ],
            [
             0.6,
             "#e6f5d0"
            ],
            [
             0.7,
             "#b8e186"
            ],
            [
             0.8,
             "#7fbc41"
            ],
            [
             0.9,
             "#4d9221"
            ],
            [
             1,
             "#276419"
            ]
           ],
           "sequential": [
            [
             0,
             "#0d0887"
            ],
            [
             0.1111111111111111,
             "#46039f"
            ],
            [
             0.2222222222222222,
             "#7201a8"
            ],
            [
             0.3333333333333333,
             "#9c179e"
            ],
            [
             0.4444444444444444,
             "#bd3786"
            ],
            [
             0.5555555555555556,
             "#d8576b"
            ],
            [
             0.6666666666666666,
             "#ed7953"
            ],
            [
             0.7777777777777778,
             "#fb9f3a"
            ],
            [
             0.8888888888888888,
             "#fdca26"
            ],
            [
             1,
             "#f0f921"
            ]
           ],
           "sequentialminus": [
            [
             0,
             "#0d0887"
            ],
            [
             0.1111111111111111,
             "#46039f"
            ],
            [
             0.2222222222222222,
             "#7201a8"
            ],
            [
             0.3333333333333333,
             "#9c179e"
            ],
            [
             0.4444444444444444,
             "#bd3786"
            ],
            [
             0.5555555555555556,
             "#d8576b"
            ],
            [
             0.6666666666666666,
             "#ed7953"
            ],
            [
             0.7777777777777778,
             "#fb9f3a"
            ],
            [
             0.8888888888888888,
             "#fdca26"
            ],
            [
             1,
             "#f0f921"
            ]
           ]
          },
          "colorway": [
           "#636efa",
           "#EF553B",
           "#00cc96",
           "#ab63fa",
           "#FFA15A",
           "#19d3f3",
           "#FF6692",
           "#B6E880",
           "#FF97FF",
           "#FECB52"
          ],
          "font": {
           "color": "#2a3f5f"
          },
          "geo": {
           "bgcolor": "white",
           "lakecolor": "white",
           "landcolor": "#E5ECF6",
           "showlakes": true,
           "showland": true,
           "subunitcolor": "white"
          },
          "hoverlabel": {
           "align": "left"
          },
          "hovermode": "closest",
          "mapbox": {
           "style": "light"
          },
          "paper_bgcolor": "white",
          "plot_bgcolor": "#E5ECF6",
          "polar": {
           "angularaxis": {
            "gridcolor": "white",
            "linecolor": "white",
            "ticks": ""
           },
           "bgcolor": "#E5ECF6",
           "radialaxis": {
            "gridcolor": "white",
            "linecolor": "white",
            "ticks": ""
           }
          },
          "scene": {
           "xaxis": {
            "backgroundcolor": "#E5ECF6",
            "gridcolor": "white",
            "gridwidth": 2,
            "linecolor": "white",
            "showbackground": true,
            "ticks": "",
            "zerolinecolor": "white"
           },
           "yaxis": {
            "backgroundcolor": "#E5ECF6",
            "gridcolor": "white",
            "gridwidth": 2,
            "linecolor": "white",
            "showbackground": true,
            "ticks": "",
            "zerolinecolor": "white"
           },
           "zaxis": {
            "backgroundcolor": "#E5ECF6",
            "gridcolor": "white",
            "gridwidth": 2,
            "linecolor": "white",
            "showbackground": true,
            "ticks": "",
            "zerolinecolor": "white"
           }
          },
          "shapedefaults": {
           "line": {
            "color": "#2a3f5f"
           }
          },
          "ternary": {
           "aaxis": {
            "gridcolor": "white",
            "linecolor": "white",
            "ticks": ""
           },
           "baxis": {
            "gridcolor": "white",
            "linecolor": "white",
            "ticks": ""
           },
           "bgcolor": "#E5ECF6",
           "caxis": {
            "gridcolor": "white",
            "linecolor": "white",
            "ticks": ""
           }
          },
          "title": {
           "x": 0.05
          },
          "xaxis": {
           "automargin": true,
           "gridcolor": "white",
           "linecolor": "white",
           "ticks": "",
           "title": {
            "standoff": 15
           },
           "zerolinecolor": "white",
           "zerolinewidth": 2
          },
          "yaxis": {
           "automargin": true,
           "gridcolor": "white",
           "linecolor": "white",
           "ticks": "",
           "title": {
            "standoff": 15
           },
           "zerolinecolor": "white",
           "zerolinewidth": 2
          }
         }
        },
        "xaxis": {
         "anchor": "y",
         "domain": [
          0,
          1
         ],
         "title": {
          "text": "week"
         }
        },
        "yaxis": {
         "anchor": "x",
         "domain": [
          0,
          1
         ],
         "title": {
          "text": "value"
         }
        }
       }
      }
     },
     "metadata": {},
     "output_type": "display_data"
    }
   ],
   "source": [
    "df1 = df.groupby(['week','team'],as_index=False)['cuts_made'].sum()\n",
    "# df1 = df1.pivot(index='week',columns='team',values='cuts_made')\n",
    "px.scatter(df1)"
   ]
  },
  {
   "cell_type": "code",
   "execution_count": 8,
   "id": "407a3e5f",
   "metadata": {},
   "outputs": [
    {
     "data": {
      "text/html": [
       "<div>\n",
       "<style scoped>\n",
       "    .dataframe tbody tr th:only-of-type {\n",
       "        vertical-align: middle;\n",
       "    }\n",
       "\n",
       "    .dataframe tbody tr th {\n",
       "        vertical-align: top;\n",
       "    }\n",
       "\n",
       "    .dataframe thead th {\n",
       "        text-align: right;\n",
       "    }\n",
       "</style>\n",
       "<table border=\"1\" class=\"dataframe\">\n",
       "  <thead>\n",
       "    <tr style=\"text-align: right;\">\n",
       "      <th></th>\n",
       "      <th>Total Pts</th>\n",
       "      <th>Cuts Made</th>\n",
       "      <th>Holes Played</th>\n",
       "      <th>Pts/Hole</th>\n",
       "      <th>Birdies</th>\n",
       "      <th>Eagles</th>\n",
       "      <th>Bogeys</th>\n",
       "      <th>Doubles</th>\n",
       "      <th>Place Pts</th>\n",
       "    </tr>\n",
       "    <tr>\n",
       "      <th>team</th>\n",
       "      <th></th>\n",
       "      <th></th>\n",
       "      <th></th>\n",
       "      <th></th>\n",
       "      <th></th>\n",
       "      <th></th>\n",
       "      <th></th>\n",
       "      <th></th>\n",
       "      <th></th>\n",
       "    </tr>\n",
       "  </thead>\n",
       "  <tbody>\n",
       "    <tr>\n",
       "      <th>unit_circle</th>\n",
       "      <td>436</td>\n",
       "      <td>6.0</td>\n",
       "      <td>396</td>\n",
       "      <td>1.04</td>\n",
       "      <td>93</td>\n",
       "      <td>3.0</td>\n",
       "      <td>49</td>\n",
       "      <td>3.0</td>\n",
       "      <td>19</td>\n",
       "    </tr>\n",
       "    <tr>\n",
       "      <th>Putt Pirates</th>\n",
       "      <td>412</td>\n",
       "      <td>5.0</td>\n",
       "      <td>396</td>\n",
       "      <td>1.08</td>\n",
       "      <td>82</td>\n",
       "      <td>2.0</td>\n",
       "      <td>47</td>\n",
       "      <td>5.0</td>\n",
       "      <td>28</td>\n",
       "    </tr>\n",
       "    <tr>\n",
       "      <th>Team Gamble</th>\n",
       "      <td>365</td>\n",
       "      <td>4.0</td>\n",
       "      <td>360</td>\n",
       "      <td>1.02</td>\n",
       "      <td>79</td>\n",
       "      <td>2.0</td>\n",
       "      <td>50</td>\n",
       "      <td>7.0</td>\n",
       "      <td>25</td>\n",
       "    </tr>\n",
       "    <tr>\n",
       "      <th>New Team 4</th>\n",
       "      <td>354</td>\n",
       "      <td>4.0</td>\n",
       "      <td>324</td>\n",
       "      <td>1.06</td>\n",
       "      <td>76</td>\n",
       "      <td>3.0</td>\n",
       "      <td>42</td>\n",
       "      <td>4.0</td>\n",
       "      <td>22</td>\n",
       "    </tr>\n",
       "    <tr>\n",
       "      <th>AlphaWired</th>\n",
       "      <td>342</td>\n",
       "      <td>4.0</td>\n",
       "      <td>360</td>\n",
       "      <td>0.95</td>\n",
       "      <td>71</td>\n",
       "      <td>1.0</td>\n",
       "      <td>42</td>\n",
       "      <td>4.0</td>\n",
       "      <td>22</td>\n",
       "    </tr>\n",
       "    <tr>\n",
       "      <th>Sneads Foot</th>\n",
       "      <td>334</td>\n",
       "      <td>4.0</td>\n",
       "      <td>360</td>\n",
       "      <td>0.97</td>\n",
       "      <td>75</td>\n",
       "      <td>2.0</td>\n",
       "      <td>47</td>\n",
       "      <td>6.0</td>\n",
       "      <td>13</td>\n",
       "    </tr>\n",
       "    <tr>\n",
       "      <th>txmoonshine</th>\n",
       "      <td>334</td>\n",
       "      <td>4.0</td>\n",
       "      <td>360</td>\n",
       "      <td>0.98</td>\n",
       "      <td>75</td>\n",
       "      <td>2.0</td>\n",
       "      <td>48</td>\n",
       "      <td>4.0</td>\n",
       "      <td>17</td>\n",
       "    </tr>\n",
       "    <tr>\n",
       "      <th>Philly919</th>\n",
       "      <td>324</td>\n",
       "      <td>4.0</td>\n",
       "      <td>360</td>\n",
       "      <td>0.95</td>\n",
       "      <td>71</td>\n",
       "      <td>1.0</td>\n",
       "      <td>46</td>\n",
       "      <td>4.0</td>\n",
       "      <td>14</td>\n",
       "    </tr>\n",
       "  </tbody>\n",
       "</table>\n",
       "</div>"
      ],
      "text/plain": [
       "              Total Pts  Cuts Made  Holes Played  Pts/Hole  Birdies  Eagles  \\\n",
       "team                                                                          \n",
       "unit_circle         436        6.0           396      1.04       93     3.0   \n",
       "Putt Pirates        412        5.0           396      1.08       82     2.0   \n",
       "Team Gamble         365        4.0           360      1.02       79     2.0   \n",
       "New Team 4          354        4.0           324      1.06       76     3.0   \n",
       "AlphaWired          342        4.0           360      0.95       71     1.0   \n",
       "Sneads Foot         334        4.0           360      0.97       75     2.0   \n",
       "txmoonshine         334        4.0           360      0.98       75     2.0   \n",
       "Philly919           324        4.0           360      0.95       71     1.0   \n",
       "\n",
       "              Bogeys  Doubles  Place Pts  \n",
       "team                                      \n",
       "unit_circle       49      3.0         19  \n",
       "Putt Pirates      47      5.0         28  \n",
       "Team Gamble       50      7.0         25  \n",
       "New Team 4        42      4.0         22  \n",
       "AlphaWired        42      4.0         22  \n",
       "Sneads Foot       47      6.0         13  \n",
       "txmoonshine       48      4.0         17  \n",
       "Philly919         46      4.0         14  "
      ]
     },
     "execution_count": 8,
     "metadata": {},
     "output_type": "execute_result"
    }
   ],
   "source": [
    "# ###  PER TOURNAMENT AVERAGES  ###\n",
    "\n",
    "team_stat_avgs = df.groupby('team')[['total_pts','cuts_made','total_holes','pp_hole','bird_num','eag_num','bog_num','dbog_num','plc_pts']].median()#.reset_index()\n",
    "team_stat_avgs.columns = 'Total Pts','Cuts Made','Holes Played','Pts/Hole','Birdies','Eagles','Bogeys','Doubles','Place Pts'\n",
    "team_stat_avgs[['Total Pts','Holes Played','Bogeys','Birdies','Place Pts']] = team_stat_avgs[['Total Pts','Holes Played','Bogeys','Birdies','Place Pts']].astype('int')\n",
    "team_stat_avgs = team_stat_avgs.sort_values('Total Pts',ascending=False).round({'Cuts Made':1,'Pts/Hole':2,'Eagles':1,'Doubles':1})\n",
    "\n",
    "team_stat_avgs"
   ]
  },
  {
   "cell_type": "code",
   "execution_count": null,
   "id": "e42ba506",
   "metadata": {},
   "outputs": [],
   "source": [
    "### SEASON TO DATE SCORE VS WEEKLY MEDIAN  ###\n",
    "\n",
    "team_median_deltas = pd.DataFrame(df.groupby('team',as_index=False)['median_delta'].sum()).sort_values(by='median_delta',ascending=False).reset_index(drop=True)\n",
    "\n",
    "median_delta_bar = px.bar(team_median_deltas,\n",
    "                          text_auto='.3s',\n",
    "                          color='team',\n",
    "                          color_discrete_map=team_color,\n",
    "                          title='Total Pts vs. Weekly Median<br>thru 11 Weeks',\n",
    "                          template='plotly_white',\n",
    "                          labels={'index':'', 'value':''},\n",
    "                          height=350\n",
    "                         )\n",
    "\n",
    "median_delta_bar.update_layout(title_x=.5,legend=dict(title=None))\n",
    "\n",
    "median_delta_bar.update_xaxes(showticklabels=False)\n",
    "median_delta_bar.update_yaxes(showticklabels=False, showgrid=False)\n",
    "median_delta_bar.update_layout(hoverlabel=dict(font_size=18,font_family=\"Rockwell\"),title_x=.45)\n",
    "\n",
    "median_delta_bar.show()"
   ]
  },
  {
   "cell_type": "code",
   "execution_count": null,
   "id": "e9cd9e49",
   "metadata": {},
   "outputs": [],
   "source": [
    "### WEEKLY SCORE VS WEEKLY MEDIAN FOR EACH TEAM ###\n",
    "\n",
    "team_weekly_deltas = pd.DataFrame(df[['team','week','median','median_delta']].groupby(['team','week'],as_index=False)[['median_delta','median']].sum())\n",
    "px.bar(team_weekly_deltas.sort_values('median_delta',ascending=False),\n",
    "       x='week',\n",
    "       y='median_delta',\n",
    "       color='team',\n",
    "       color_discrete_map=team_color,        \n",
    "       facet_col='team',\n",
    "       facet_col_wrap=2,\n",
    "       facet_col_spacing=.1,\n",
    "       facet_row_spacing=.16,\n",
    "       height=800,\n",
    "       width=800,\n",
    "       labels={'median_delta':'','week':''},\n",
    "       template='plotly_white',\n",
    "       text_auto='.3s'\n",
    "       ).update_yaxes(showticklabels=False,showgrid=False,gridcolor=\"#B1A999\",tickfont=dict(color='#5A5856', size=10)#,matches=None\n",
    "       ).update_xaxes(tickfont=dict(color='#5A5856', size=10),title_font=dict(color='#5A5856',size=10),showticklabels=True,tickangle= -90,tickmode='array',tickvals = [1,2,3,4,5,6,7,8,9,10,11,12],ticktext = ['Sony','Amex','Farmers','AT&T','Waste Mgmt','Genesis','Mexico Open','Cognizant','Arnold Palmer','PLAYERS','Valspar','Houston Open'],ticklabelposition='outside'\n",
    "       ).update_layout(hoverlabel=dict(font_size=14,font_family=\"Rockwell\"),showlegend=False\n",
    "       ).for_each_annotation(lambda a: a.update(text=a.text.replace(\"team=\", \"\")))"
   ]
  },
  {
   "cell_type": "code",
   "execution_count": null,
   "id": "14052892",
   "metadata": {},
   "outputs": [],
   "source": [
    "# wins with negative median delta\n",
    "\n",
    "temp = df[['team','week','opponent','win_loss','median','total_pts','median_delta']]\n",
    "temp = temp[(temp.win_loss==True) & (temp.median_delta < 0)]\n",
    "temp"
   ]
  },
  {
   "cell_type": "code",
   "execution_count": null,
   "id": "d3dca1d2",
   "metadata": {},
   "outputs": [],
   "source": [
    "temp_df.columns"
   ]
  },
  {
   "cell_type": "code",
   "execution_count": null,
   "id": "59d6174f",
   "metadata": {},
   "outputs": [],
   "source": [
    "### WEEKLY BUBBLES WIN / LOSS  ###\n",
    "\n",
    "newnames={'False':'Loss','True':'Win'}\n",
    "temp_df = df.copy()\n",
    "temp_df['win_loss'] = temp_df['win_loss'].astype('bool')\n",
    "scatter_fig = px.scatter(temp_df,\n",
    "                        x='week',\n",
    "                        y='total_pts',\n",
    "                        color='win_loss',\n",
    "                        template='plotly_dark',\n",
    "                        size='cuts_made',\n",
    "                        size_max=14,\n",
    "                        hover_name='team',\n",
    "                        color_discrete_sequence=px.colors.qualitative.Pastel1,\n",
    "                        title='Weekly Wins & Losses by Pts Scored',\n",
    "                        labels={'week':'','total_pts':'Points Scored'},\n",
    "                        height=800,\n",
    "                        width=600,                        \n",
    "                        ).update_layout(hoverlabel=dict(font_size=18,font_family=\"Rockwell\"),showlegend=True,title_x=.35,\n",
    "                                        legend=dict(orientation='h',yanchor=\"bottom\",y=1,xanchor=\"center\",x=.5,title='',font_color='#5A5856')\n",
    "                        ).update_xaxes(tickangle= -45,tickvals = [1,2,3,4,5,6,7,8,9,10,11],\n",
    "                                       ticktext = ['Sony','Amex','Farmers','AT&T','Waste Mgmt','Genesis','Mexico Open','Cognizant','Arnold Palmer','PLAYERS','Valspar'],\n",
    "                                       tickfont=dict(color='#5A5856', size=13),title_font=dict(color='#5A5856',size=14)\n",
    "                        ).update_yaxes(tickfont=dict(color='#5A5856', size=13),title_font=dict(color='#5A5856',size=14),tickcolor='darkgrey', gridcolor='darkgrey'\n",
    "                        ).update_traces(marker=dict(line_color='black')\n",
    "                        ).for_each_trace(lambda t: t.update(name = newnames[t.name],legendgroup = newnames[t.name],hovertemplate = t.hovertemplate.replace(t.name, newnames[t.name])))\n",
    "\n",
    "\n",
    "scatter_fig.show()#,use_container_width=True, config=config)"
   ]
  },
  {
   "cell_type": "code",
   "execution_count": null,
   "id": "53d3fa89",
   "metadata": {},
   "outputs": [],
   "source": [
    "### CUTS MADE DISTRIBUTION  ###\n",
    "\n",
    "newnames={'0':'Loss','1':'Win'}\n",
    "\n",
    "['#B6E880', '#FF97FF']\n",
    "\n",
    "cuts_made_hist = px.histogram(df.sort_values('cuts_made',ascending=False),\n",
    "                    x='cuts_made',\n",
    "                    text_auto='.2s',\n",
    "                    title='Win Percentage by Cuts Made',\n",
    "                    template='plotly_dark',\n",
    "                    labels={'cuts_made':'Players Thru Cut','count':''},\n",
    "                    histfunc='count',\n",
    "                    barnorm='percent',\n",
    "                    barmode='stack',\n",
    "                    color='win_loss',\n",
    "#                     color_discrete_sequence=['red', 'green'],\n",
    "                    color_discrete_sequence=px.colors.qualitative.Safe,\n",
    "                    height=350\n",
    "                             ).update_layout(title_x=.23,legend=dict(title=\"\",x=.45,y=1.2,orientation='h'))\n",
    "\n",
    "cuts_made_hist.update_layout(title_x=.5, bargap=0.2)\n",
    "cuts_made_hist.for_each_trace(lambda t: t.update(name = newnames[t.name],legendgroup = newnames[t.name],hovertemplate = t.hovertemplate.replace(t.name, newnames[t.name])))\n",
    "\n",
    "cuts_made_hist.update_xaxes(tickvals = [1,2,3,4,5,6],\n",
    "                            ticktext = ['1/6','2/6','3/6','4/6','5/6','6/6'])\n",
    "\n",
    "cuts_made_hist.update_yaxes(showticklabels=False, showgrid=False,visible= False)"
   ]
  },
  {
   "cell_type": "code",
   "execution_count": null,
   "id": "e45294cd",
   "metadata": {},
   "outputs": [],
   "source": [
    "### CUTS MADE DISTRIBUTION  ###\n",
    "df['rounded_percentage'] = (df['cuts_made'] * 100).round().astype(int).astype(str) + '%'\n",
    "\n",
    "cuts_made_hist = px.histogram(df.sort_values('cuts_made', ascending=False),\n",
    "                              x='cuts_made',\n",
    "                              template='plotly_dark',\n",
    "                              labels={'cuts_made':'', 'count':''},\n",
    "                              title=\"%'s Cuts Made\",\n",
    "                              histnorm='percent',\n",
    "                              color_discrete_sequence=['grey'],\n",
    "                              height=350,\n",
    "                              text_auto='.2s'\n",
    "                             )\n",
    "\n",
    "\n",
    "cuts_made_hist.update_layout(title_x=.5, bargap=0.2, legend=dict(title=\"\", x=.45, y=1.2, orientation='h'))\n",
    "cuts_made_hist.update_xaxes(tickvals=[1, 2, 3, 4, 5, 6], ticktext=['1/6', '2/6', '3/6', '4/6', '5/6', '6/6'])\n",
    "cuts_made_hist.update_yaxes(showticklabels=False, showgrid=False, tickfont=dict(color='#5A5856'),\n",
    "                             title_font_color='#5A5856', visible=False)\n",
    "\n",
    "cuts_made_hist.show()\n"
   ]
  },
  {
   "cell_type": "code",
   "execution_count": null,
   "id": "9a53ae9f",
   "metadata": {},
   "outputs": [],
   "source": [
    "### FINISHING POSITION COMPARISON\n",
    "\n",
    "finish_medians = round(df[['team','fin_1','fin_2','fin_3','fin_4','fin_5','fin_6']].groupby('team').median(),1).reset_index()\n",
    "finish_medians.columns = 'Team','Top Finisher','2nd','3rd','4th','5th','Worst Finisher'\n",
    "melted_finish_medians = finish_medians.melt(id_vars='Team',value_vars=['Top Finisher','2nd','3rd','4th','5th','Worst Finisher'])\n",
    "\n",
    "# print(finish_medians)\n",
    "\n",
    "fin_place_scatter = px.scatter(melted_finish_medians,\n",
    "          x='variable',\n",
    "          y='value',\n",
    "          color='Team',\n",
    "          color_discrete_map=team_color,\n",
    "          template='plotly_white',\n",
    "          labels={'value':'Median Finish','variable':''},\n",
    "#           width=550,\n",
    "          log_y=True,\n",
    "          ).update_traces(marker_size=12)\n",
    "\n",
    "# fin_place_scatter.update_layout(title_x=.5,\n",
    "#                                legend=dict(\n",
    "#                                    title=None,\n",
    "#                                    orientation='h',\n",
    "#                                    x=0,\n",
    "#                                    y=1.3\n",
    "#                                )\n",
    "#                               )\n",
    "fin_place_scatter.show()"
   ]
  },
  {
   "cell_type": "code",
   "execution_count": null,
   "id": "8014ae11",
   "metadata": {},
   "outputs": [],
   "source": [
    "df"
   ]
  },
  {
   "cell_type": "code",
   "execution_count": null,
   "id": "c93b5ded",
   "metadata": {
    "scrolled": false
   },
   "outputs": [],
   "source": [
    "### CORRELATION TO WINS BY STAT - SCATTER PLOTS WITH SLIDER / TOGGLE / RADIO BUTTON FOR EACH STAT\n",
    "\n",
    "df['bb_ratio'] = df.bird_num / df.bog_num\n",
    "stats_to_compare = ['bird_num','bb_ratio','median_delta','total_pts','plc_pts','cuts_made','pp_hole','pars_num','eag_num','dbog_num','bog_num']\n",
    "\n",
    "for stat in stats_to_compare:\n",
    "    scatter_df = df.groupby(['team'],as_index=False)[[stat,'win_loss']].sum()\n",
    "    fig = px.scatter(scatter_df,\n",
    "              x=stat,\n",
    "              y='win_loss',\n",
    "              color='team',\n",
    "              color_discrete_map=team_color,\n",
    "              template='plotly_white',\n",
    "              height=400,\n",
    "              width=600,\n",
    "              labels={'win_loss':'Wins'},\n",
    "              title=f\"Corr between {stat} vs Wins\",\n",
    "              trendline='ols',trendline_scope='overall',trendline_color_override='black',\n",
    "              ).update_traces(marker=dict(size=15,line_color='black')\n",
    "              ).update_layout(showlegend=False)\n",
    "    results = px.get_trendline_results(fig).px_fit_results.iloc[0].rsquared\n",
    "    print(f\"{stat}\")\n",
    "    print(f\"R-Squared Value: {results:.2f}\")\n",
    "    print(fig.show())"
   ]
  },
  {
   "cell_type": "code",
   "execution_count": null,
   "id": "b25a01b6",
   "metadata": {},
   "outputs": [],
   "source": [
    "px.get_trendline_results(fig).px_fit_results.iloc[0].rsquared"
   ]
  },
  {
   "cell_type": "code",
   "execution_count": null,
   "id": "abfebaee",
   "metadata": {},
   "outputs": [],
   "source": [
    "scatter_df = df.groupby(['team'],as_index=False)[[stat,'win_loss']].mean()\n",
    "fig = px.scatter(scatter_df,\n",
    "          x=stat,\n",
    "          y='win_loss',\n",
    "          color='team',\n",
    "          color_discrete_map=team_color,\n",
    "          trendline='ols',trendline_scope='overall',trendline_color_override='black',\n",
    "      ).update_traces(marker_size=12\n",
    "      ).update_layout(legend=dict(title=None,orientation='h',x=0,y=1.3))\n",
    "\n",
    "results = round(px.get_trendline_results(fig).px_fit_results.iloc[0].rsquared,2)\n",
    "print(results)\n",
    "fig.show()"
   ]
  },
  {
   "cell_type": "code",
   "execution_count": null,
   "id": "7fa5bbb8",
   "metadata": {},
   "outputs": [],
   "source": [
    "###  CUTS PER WEEK PAR  ###\n",
    "\n",
    "cuts_per_week = pd.DataFrame(df.groupby('team')[['cuts_made','total_pts']].sum())\n",
    "cuts_per_week['cuts_per_week'] = cuts_per_week['cuts_made'] / 10\n",
    "px.bar(cuts_per_week.sort_values(by='cuts_per_week',ascending=False).round(1),\n",
    "       y='cuts_per_week',\n",
    "      log_y=True,\n",
    "      text_auto=True,\n",
    "      template='plotly_white',\n",
    "      color='total_pts',\n",
    "      height=350,\n",
    "      color_continuous_scale=px.colors.sequential.Blues)"
   ]
  },
  {
   "cell_type": "code",
   "execution_count": null,
   "id": "a1ab3fd8",
   "metadata": {},
   "outputs": [],
   "source": [
    "### PLAYGROUND BELOW HERE ###"
   ]
  },
  {
   "cell_type": "code",
   "execution_count": null,
   "id": "14351ae0",
   "metadata": {},
   "outputs": [],
   "source": [
    "temp = df.groupby('team')['pars_pts','bird_pts','eag_pts','total_pts'].sum()\n",
    "temp['bird_eagle_pts'] = temp.bird_pts + temp.eag_pts\n",
    "temp['portion'] = round(temp.bird_eagle_pts / temp.total_pts,2)\n",
    "temp['par_portion'] = round(temp.pars_pts / temp.total_pts,2)\n",
    "temp"
   ]
  },
  {
   "cell_type": "code",
   "execution_count": null,
   "id": "f09aac4e",
   "metadata": {},
   "outputs": [],
   "source": [
    "df.groupby(['team']).plc_pts.sum()"
   ]
  },
  {
   "cell_type": "code",
   "execution_count": null,
   "id": "5c04b81b",
   "metadata": {},
   "outputs": [],
   "source": [
    "# percentage of time players make cut\n",
    "df['cuts_per_start'] = df.cuts_made / df.players_started\n",
    "(\n",
    "    df.groupby('team')\n",
    "    ['cuts_per_start']\n",
    "    .mean()\n",
    "    .round(2)\n",
    ")"
   ]
  },
  {
   "cell_type": "code",
   "execution_count": null,
   "id": "e523020b",
   "metadata": {},
   "outputs": [],
   "source": []
  }
 ],
 "metadata": {
  "kernelspec": {
   "display_name": "Python 3 (ipykernel)",
   "language": "python",
   "name": "python3"
  },
  "language_info": {
   "codemirror_mode": {
    "name": "ipython",
    "version": 3
   },
   "file_extension": ".py",
   "mimetype": "text/x-python",
   "name": "python",
   "nbconvert_exporter": "python",
   "pygments_lexer": "ipython3",
   "version": "3.11.5"
  }
 },
 "nbformat": 4,
 "nbformat_minor": 5
}
