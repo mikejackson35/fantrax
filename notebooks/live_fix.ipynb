{
 "cells": [
  {
   "cell_type": "code",
   "execution_count": 79,
   "metadata": {},
   "outputs": [],
   "source": [
    "import pandas as pd\n",
    "import numpy as np\n",
    "import plotly.express as px\n",
    "import streamlit as st\n",
    "import altair as alt\n",
    "from utils_live import teams_dict, get_inside_cut, fix_names, highlight_rows_team_short,plus_prefix\n",
    "import secrets"
   ]
  },
  {
   "cell_type": "code",
   "execution_count": 100,
   "metadata": {},
   "outputs": [],
   "source": [
    "# def fix_names(live):\n",
    "#     \"\"\"\n",
    "#     Takes in live datagolf scoring, cleans names, outputs list of active players this week\n",
    "#     \"\"\"\n",
    "#     names = live['player'].str.split(expand=True)                  \n",
    "#     names[0] = names[0].str.rstrip(\",\")\n",
    "#     names[1] = names[1].str.rstrip(\",\")\n",
    "#     names['player'] = names[1] + \" \" + names[0]\n",
    "\n",
    "#     names['player'] = np.where(names['player']=='Matt Fitzpatrick', 'Matthew Fitzpatrick', names['player'])\n",
    "#     names['player'] = np.where(names['player']=='Si Kim', 'Si Woo Kim', names['player'])\n",
    "#     names['player'] = np.where(names['player']=='Min Lee', 'Min Woo Lee', names['player'])\n",
    "#     names['player'] = np.where(names['player']=='Byeong An', 'Byeong Hun An', names['player'])\n",
    "#     names['player'] = np.where(names['player']=='Rooyen Van', 'Erik Van Rooyen', names['player'])\n",
    "#     names['player'] = np.where(names['player']=='Vince Whaley', 'Vincent Whaley', names['player'])\n",
    "#     names['player'] = np.where(names['player']=='Kevin Yu', 'kevin Yu', names['player'])\n",
    "#     names['player'] = np.where(names['player']=='Kyounghoon Lee', 'Kyoung-Hoon Lee', names['player'])\n",
    "#     return names.player\n",
    "\n",
    "# teams_dict = {\n",
    "#         '919':'Philly919',\n",
    "#         'u_c':'unit_circle',\n",
    "#         'NT 4':'New Team 4',\n",
    "#         'NT 8':'Sneads Foot',\n",
    "#         'txms':'txmoonshine',\n",
    "#         'MG':'Team Gamble',\n",
    "#         'grrr':'Putt Pirates',\n",
    "#         '[AW]':'AlphaWired'\n",
    "#         }\n",
    "\n",
    "# matchups = {                                    # enter weekly matchups here\n",
    "#     'unit_circle':1,\n",
    "#     'Putt Pirates':2,\n",
    "#     'AlphaWired':3,\n",
    "#     'txmoonshine':2,\n",
    "#     'Sneads Foot':1,\n",
    "#     'New Team 4':4,\n",
    "#     'Team Gamble':4,\n",
    "#     'Philly919':3\n",
    "# }\n",
    "\n",
    "# def plus_prefix(a):\n",
    "#     if a > 0:\n",
    "#         b = f\"+{a}\"\n",
    "#     else:\n",
    "#         b = a\n",
    "#     return b\n",
    "\n",
    "# def remove_T_from_positions(dataframe):\n",
    "#     \"\"\"\n",
    "#     Remove 'T' from positions in a given column of a DataFrame.\n",
    "\n",
    "#     Parameters:\n",
    "#         dataframe (pandas.DataFrame): DataFrame containing the data.\n",
    "#         column_name (str): Name of the column containing positions.\n",
    "\n",
    "#     Returns:\n",
    "#         pandas.DataFrame: DataFrame with 'T' removed from positions in the specified column.\n",
    "#     \"\"\"\n",
    "#     dataframe['position'] = dataframe['position'].str.replace('T', '')\n",
    "#     return dataframe\n",
    "\n",
    "# def get_inside_cut(live_merged):\n",
    "#     \"\"\"\n",
    "#     Filter DataFrame based on position threshold and group by team.\n",
    "\n",
    "#     Parameters:\n",
    "#         dataframe (pandas.DataFrame): DataFrame containing the data.\n",
    "#         position_threshold (str): Threshold position for filtering.\n",
    "\n",
    "#     Returns:\n",
    "#         pandas.DataFrame: DataFrame with filtered data grouped by team.\n",
    "#     \"\"\"\n",
    "#     live_merged = live_merged[live_merged['position'] != \"WAITING\"]\n",
    "#     live_merged = live_merged[live_merged['position'] != \"CUT\"]\n",
    "#     live_merged = remove_T_from_positions(live_merged)\n",
    "#     live_merged['position'] = live_merged['position'].dropna().astype('int')\n",
    "#     inside_cut_df = pd.DataFrame(live_merged[live_merged['position'] < 66].team.value_counts()).reset_index()\n",
    "#     inside_cut_df.columns = ['team','inside_cut']\n",
    "    \n",
    "#     inside_cut_dict = dict(inside_cut_df.values)\n",
    "#     return inside_cut_dict\n",
    "\n",
    "# def highlight_rows_team_short(row):\n",
    "#     value = row.loc['Team']\n",
    "#     if value == 'u_c':\n",
    "#         color = '#c28bdd' # Purple\n",
    "#     elif value == '919':\n",
    "#         color = '#0ec3d2' # Aqua\n",
    "#     elif value == '[AW]':\n",
    "#         color = '#f7a05d' # Orange\n",
    "#     elif value == 'NT 8':\n",
    "#         color = '#46d671' # Green\n",
    "#     elif value == 'NT 4':\n",
    "#         color = '#f75e38' # Red\n",
    "#     elif value == 'MG':\n",
    "#         color = '#2693be' # Navy\n",
    "#     elif value == 'txms':\n",
    "#         color = '#dbc530' # Yellow\n",
    "#     else:\n",
    "#         color = '#73706a' # Grey\n",
    "#     return ['background-color: {}'.format(color) for r in row]"
   ]
  },
  {
   "cell_type": "code",
   "execution_count": 81,
   "metadata": {},
   "outputs": [
    {
     "data": {
      "text/plain": [
       "(89, 23)"
      ]
     },
     "execution_count": 81,
     "metadata": {},
     "output_type": "execute_result"
    }
   ],
   "source": [
    "# get live\n",
    "\n",
    "dg_key = 'e297e933c3ad47d71ec1626c299e'\n",
    "\n",
    "path = f\"https://feeds.datagolf.com/preds/live-tournament-stats?stats=sg_putt,sg_arg,sg_app,sg_ott,sg_t2g,sg_bs,sg_total,distance,accuracy,gir,prox_fw,prox_rgh,scrambling&round=event_avg&display=value&file_format=csv&key={dg_key}\"\n",
    "\n",
    "live = round(pd.read_csv(path),2).rename(columns={'player_name':'player'})\n",
    "live = live.set_index(fix_names(live))\n",
    "live.shape\n"
   ]
  },
  {
   "cell_type": "code",
   "execution_count": 82,
   "metadata": {},
   "outputs": [
    {
     "data": {
      "text/plain": [
       "(48, 3)"
      ]
     },
     "execution_count": 82,
     "metadata": {},
     "output_type": "execute_result"
    }
   ],
   "source": [
    "# get fantrax teams\n",
    "\n",
    "teams = pd.read_csv(r\"C:\\Users\\mikej\\Desktop\\fantrax\\week.csv\",usecols=['Player','Status','Roster Status'])\n",
    "\n",
    "teams.columns = ['player','team','active_reserve']\n",
    "teams['team_short'] = teams['team']\n",
    "teams['team'] = teams.team.map(teams_dict)\n",
    "teams = teams.loc[teams.active_reserve=='Active'].set_index('player')\n",
    "teams.shape"
   ]
  },
  {
   "cell_type": "code",
   "execution_count": 101,
   "metadata": {},
   "outputs": [
    {
     "name": "stdout",
     "output_type": "stream",
     "text": [
      "(48, 12)\n"
     ]
    }
   ],
   "source": [
    "## MERGE & PROCESS ##\n",
    "\n",
    "# merge current fantasy teams and live scoring\n",
    "live_merged = pd.merge(teams, live, how='left', left_index=True, right_index=True)[['team','team_short','position','total','round','thru','sg_putt','sg_arg','sg_app','sg_ott','sg_t2g']].fillna(0).sort_values('total')\n",
    "live_merged = live_merged.convert_dtypes().reset_index()\n",
    "\n",
    "\n",
    "# add columns matchup_num & holes_remaining\n",
    "live_merged['matchup_num'] = live_merged.team.map(matchups)\n",
    "live_merged['holes_remaining'] = (72 - (live_merged['thru']).fillna(0)).astype(int)\n",
    "live_merged.loc[live_merged['position'].isin(['CUT', 'WD']), 'holes_remaining'] = 0\n",
    "print(live_merged.shape)\n",
    "# live_merged.head()"
   ]
  },
  {
   "cell_type": "code",
   "execution_count": 103,
   "metadata": {},
   "outputs": [],
   "source": [
    "# get team leaderboard\n",
    "\n",
    "team_leaderboard = (live_merged[['team', 'team_short', 'total', 'holes_remaining', 'matchup_num']]\n",
    "                    .groupby(['team', 'team_short'])\n",
    "                    .agg({'total': 'sum', 'holes_remaining': 'sum'})\n",
    "                    .sort_values('total')\n",
    "                    .reset_index()\n",
    "                   )\n",
    "\n",
    "team_leaderboard['inside_cut'] = team_leaderboard['team'].map(get_inside_cut(live_merged)).fillna(0).astype(int)# team_leaderboard['total'] = team_leaderboard['total'].apply(plus_prefix)\n",
    "team_leaderboard['total'] = team_leaderboard['total'].apply(plus_prefix).astype(int)\n",
    "team_leaderboard_bar_df = team_leaderboard.copy()\n",
    "\n",
    "team_leaderboard.drop(columns='team',inplace=True)\n",
    "team_leaderboard.rename(columns={'team_short':'team'},inplace=True)\n",
    "team_leaderboard.columns = ['Team','Total','PHR','Inside Cut']\n",
    "team_leaderboard = team_leaderboard.T.style.apply(highlight_rows_team_short,axis=0)"
   ]
  },
  {
   "cell_type": "code",
   "execution_count": null,
   "metadata": {},
   "outputs": [],
   "source": []
  }
 ],
 "metadata": {
  "kernelspec": {
   "display_name": "base",
   "language": "python",
   "name": "python3"
  },
  "language_info": {
   "codemirror_mode": {
    "name": "ipython",
    "version": 3
   },
   "file_extension": ".py",
   "mimetype": "text/x-python",
   "name": "python",
   "nbconvert_exporter": "python",
   "pygments_lexer": "ipython3",
   "version": "3.11.5"
  }
 },
 "nbformat": 4,
 "nbformat_minor": 2
}
