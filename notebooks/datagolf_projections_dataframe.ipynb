{
 "cells": [
  {
   "cell_type": "code",
   "execution_count": null,
   "id": "ce160b61",
   "metadata": {},
   "outputs": [],
   "source": [
    "st.markdown(\"##\")\n",
    "st.markdown(\"<center><h5>DRAFT KINGS PROJECTIONS</h5></center>\",unsafe_allow_html=True)\n",
    "\n",
    "dg_proj_copy = pd.DataFrame(round(dg_proj_copy[['dk_name','dk_salary','total_points','value','projected_ownership']],2)).sort_values(by='dk_salary',ascending=False).reset_index(drop=True)\n",
    "st.dataframe(dg_proj_copy.round(2).style.background_gradient(subset=['value'],cmap='Greys').format(precision=2),\n",
    "             hide_index=True,\n",
    "             height=1000,\n",
    "             column_config={\n",
    "                  'dk_name':'Name',\n",
    "                  'dk_salary': st.column_config.NumberColumn(\n",
    "                       'DK Salary',\n",
    "                       format = \"$ %.0f\"\n",
    "                    ),\n",
    "                #    'early_late_wave':'Early/Late Wave',\n",
    "                   'total_points':'Proj Pts',\n",
    "                   'value': 'Value',\n",
    "                   'projected_ownership':'pOwn',\n",
    "                   'adj_from_baseline': 'Baseline Adj'\n",
    "             },\n",
    "             use_container_width=True\n",
    "        )"
   ]
  }
 ],
 "metadata": {
  "kernelspec": {
   "display_name": "Python 3 (ipykernel)",
   "language": "python",
   "name": "python3"
  },
  "language_info": {
   "codemirror_mode": {
    "name": "ipython",
    "version": 3
   },
   "file_extension": ".py",
   "mimetype": "text/x-python",
   "name": "python",
   "nbconvert_exporter": "python",
   "pygments_lexer": "ipython3",
   "version": "3.11.5"
  }
 },
 "nbformat": 4,
 "nbformat_minor": 5
}
